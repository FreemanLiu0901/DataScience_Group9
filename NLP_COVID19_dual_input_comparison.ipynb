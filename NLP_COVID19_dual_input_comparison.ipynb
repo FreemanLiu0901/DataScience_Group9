{
 "cells": [
  {
   "cell_type": "markdown",
   "id": "7ffaae9f",
   "metadata": {},
   "source": [
    "DT5125 - Data Science Application\n",
    "\n",
    "Group Assignment 1 - Text Classification \n",
    "\n",
    "Group 9"
   ]
  },
  {
   "cell_type": "markdown",
   "id": "4813f1d6",
   "metadata": {},
   "source": [
    "Main Topic: COVID-19\n",
    "\n",
    "Subtopics:\n",
    "\n",
    "Label;  Category;   Description\n",
    "\n",
    "A;\tCOVID-19 & Vaccine Efficacy\tStudies; evaluating how well different vaccines work, possibly across variants.\n",
    "\n",
    "B;\tCOVID-19 & Long-Term Neurological Effects;\tResearch on long COVID and cognitive/neurological symptoms (brain fog, memory loss).\n",
    "\n",
    "C;\tCOVID-19 & Machine Learning for Diagnosis;\tUse of ML to diagnose COVID-19 from imaging (CT, X-rays) or symptoms.\n",
    "\n",
    "D;\tCOVID-19 & Public Health Policy / Social Behavior;\tResearch on lockdown effects, mask compliance, misinformation, etc.\n",
    "\n",
    "E;\tCOVID-19 & Genomic/Variant Analysis;\tStudies on SARS-CoV-2 mutations, variant tracking, and genomic signatures.\n",
    "\n"
   ]
  },
  {
   "cell_type": "markdown",
   "id": "cb63a8f4",
   "metadata": {},
   "source": [
    "Step 1: Find and import 200 abstracts per category, save to csv with label and metadata "
   ]
  },
  {
   "cell_type": "code",
   "execution_count": 1,
   "id": "84a6f280",
   "metadata": {
    "ExecuteTime": {
     "end_time": "2025-05-25T23:07:40.291215Z",
     "start_time": "2025-05-25T23:07:16.995198Z"
    }
   },
   "outputs": [
    {
     "name": "stdout",
     "output_type": "stream",
     "text": [
      "\n",
      "🔍 Fetching Category A\n",
      "✅ Collected 96 valid abstracts...\n",
      "✅ Collected 194 valid abstracts...\n",
      "✅ Collected 200 valid abstracts...\n",
      "\n",
      "🔍 Fetching Category B\n",
      "✅ Collected 96 valid abstracts...\n",
      "✅ Collected 195 valid abstracts...\n",
      "✅ Collected 200 valid abstracts...\n",
      "\n",
      "🔍 Fetching Category C\n",
      "✅ Collected 100 valid abstracts...\n",
      "✅ Collected 198 valid abstracts...\n",
      "✅ Collected 200 valid abstracts...\n",
      "\n",
      "🔍 Fetching Category D\n",
      "✅ Collected 94 valid abstracts...\n",
      "✅ Collected 192 valid abstracts...\n",
      "✅ Collected 200 valid abstracts...\n",
      "\n",
      "🔍 Fetching Category E\n",
      "✅ Collected 97 valid abstracts...\n",
      "✅ Collected 197 valid abstracts...\n",
      "✅ Collected 200 valid abstracts...\n",
      "✅ Saved to 'covid19_labeled_abstracts_with_metadata.csv'\n"
     ]
    }
   ],
   "source": [
    "import time\n",
    "import re\n",
    "import pandas as pd\n",
    "from Bio import Entrez\n",
    "\n",
    "# Set user email here, used to access websites\n",
    "Entrez.email = \"jliu580@uottawa.ca\"\n",
    "\n",
    "# Define search categories\n",
    "categories = {\n",
    "    \"A\": 'COVID-19 AND (\"vaccine efficacy\" OR \"vaccine effectiveness\")',\n",
    "    \"B\": 'COVID-19 AND (\"long COVID\" OR \"neurological symptoms\" OR \"brain fog\")',\n",
    "    \"C\": 'COVID-19 AND (\"machine learning\" OR \"deep learning\") AND (\"diagnosis\" OR \"prediction\")',\n",
    "    \"D\": 'COVID-19 AND (\"public health\" OR \"policy\" OR \"lockdown\" OR \"social distancing\")',\n",
    "    \"E\": 'COVID-19 AND (\"variant analysis\" OR \"genomic surveillance\" OR \"SARS-CoV-2 mutations\")'\n",
    "}\n",
    "\n",
    "def clean_text(text):\n",
    "    \"\"\"\n",
    "    Remove noise, symbols, HTML tags. Prepare a version with only abstracts for comparison\n",
    "\n",
    "    \"\"\"\n",
    "    text = re.sub(r\"<[^>]+>\", \"\", text)\n",
    "    text = re.sub(r\"\\s+\", \" \", text)\n",
    "    text = re.sub(r\"[^a-zA-Z0-9\\s]\", \"\", text)\n",
    "    return text.strip()\n",
    "\n",
    "def fetch_200_valid_abstracts(query, email=\"your_email@example.com\"):\n",
    "    \"\"\"\n",
    "    Fetches batches of PubMed articles until 200 valid ones with abstracts are collected.\n",
    "    Returns each with title, abstract, label, and additional metadata.\n",
    "    \"\"\"\n",
    "\n",
    "    Entrez.email = email\n",
    "    valid_abstracts = []\n",
    "    retstart = 0\n",
    "    batch_size = 100\n",
    "    max_attempts = 1000\n",
    "\n",
    "    search_handle = Entrez.esearch(db=\"pubmed\", term=query, usehistory=\"y\", retmax=0)\n",
    "    search_results = Entrez.read(search_handle)\n",
    "    total_records = int(search_results[\"Count\"])\n",
    "    webenv = search_results[\"WebEnv\"]\n",
    "    query_key = search_results[\"QueryKey\"]\n",
    "\n",
    "    while len(valid_abstracts) < 200 and retstart < total_records and max_attempts > 0:\n",
    "        try:\n",
    "            fetch_handle = Entrez.efetch(\n",
    "                db=\"pubmed\",\n",
    "                rettype=\"abstract\",\n",
    "                retmode=\"xml\",\n",
    "                retstart=retstart,\n",
    "                retmax=batch_size,\n",
    "                webenv=webenv,\n",
    "                query_key=query_key\n",
    "            )\n",
    "            records = Entrez.read(fetch_handle)\n",
    "        except Exception as e:\n",
    "            print(f\"Entrez fetch failed at retstart={retstart}: {e}\")\n",
    "            break\n",
    "\n",
    "        for article in records.get(\"PubmedArticle\", []):\n",
    "            try:\n",
    "                article_meta = article[\"MedlineCitation\"]\n",
    "                article_fields = article_meta[\"Article\"]\n",
    "                title = article_fields.get(\"ArticleTitle\", \"\")\n",
    "                abstract_parts = article_fields.get(\"Abstract\", {}).get(\"AbstractText\", [])\n",
    "                if not abstract_parts:\n",
    "                    continue\n",
    "\n",
    "                abstract = \" \".join(str(p) for p in abstract_parts)\n",
    "\n",
    "                # Metadata\n",
    "                pmid = article_meta.get(\"PMID\", \"?\")\n",
    "                journal = article_fields.get(\"Journal\", {}).get(\"Title\", \"?\")\n",
    "                pub_year = article_fields.get(\"Journal\", {}).get(\"JournalIssue\", {}).get(\"PubDate\", {}).get(\"Year\", \"?\")\n",
    "\n",
    "                authors_list = article_fields.get(\"AuthorList\", [])\n",
    "                authors = \", \".join([\n",
    "                    f\"{a.get('LastName', '')} {a.get('Initials', '')}\"\n",
    "                    for a in authors_list if \"LastName\" in a\n",
    "                ][:3])  # up to 3 authors\n",
    "\n",
    "                article_ids = article.get(\"PubmedData\", {}).get(\"ArticleIdList\", [])\n",
    "                doi = next((id for id in article_ids if id.attributes.get(\"IdType\") == \"doi\"), \"?\")\n",
    "\n",
    "                valid_abstracts.append({\n",
    "                    \"pmid\": pmid,\n",
    "                    \"title\": clean_text(title),\n",
    "                    \"abstract\": clean_text(abstract),\n",
    "                    \"journal\": journal,\n",
    "                    \"pub_year\": pub_year,\n",
    "                    \"authors\": authors,\n",
    "                    \"doi\": doi\n",
    "                })\n",
    "\n",
    "                if len(valid_abstracts) >= 200:\n",
    "                    break\n",
    "            except Exception:\n",
    "                continue\n",
    "\n",
    "        retstart += batch_size\n",
    "        max_attempts -= 1\n",
    "        time.sleep(0.3)\n",
    "        print(f\"✅ Collected {len(valid_abstracts)} valid abstracts...\")\n",
    "\n",
    "    return valid_abstracts[:200]\n",
    "\n",
    "\n",
    "# Download and label data\n",
    "all_data = []\n",
    "\n",
    "for label, query in categories.items():\n",
    "    print(f\"\\n🔍 Fetching Category {label}\")\n",
    "    articles = fetch_200_valid_abstracts(query)\n",
    "    for article in articles:\n",
    "        article[\"label\"] = label  # Add label to each entry\n",
    "    all_data.extend(articles)\n",
    "\n",
    "# Save with metadata\n",
    "df = pd.DataFrame(all_data)\n",
    "df.to_csv(\"covid19_labeled_abstracts_with_metadata.csv\", index=False)\n",
    "print(\"✅ Saved to 'covid19_labeled_abstracts_with_metadata.csv'\")\n",
    "\n"
   ]
  },
  {
   "cell_type": "markdown",
   "id": "2ad17b77",
   "metadata": {},
   "source": [
    "Step 2: Preprocess Text: \tLowercase everything, remove stopwords/punctuation, truncate to ~100 words"
   ]
  },
  {
   "cell_type": "code",
   "execution_count": 2,
   "id": "6c015b25",
   "metadata": {
    "ExecuteTime": {
     "end_time": "2025-05-25T23:07:40.373589Z",
     "start_time": "2025-05-25T23:07:40.292557Z"
    }
   },
   "outputs": [],
   "source": [
    "# Load the CSV file\n",
    "df = pd.read_csv(\"covid19_labeled_abstracts_with_metadata.csv\")\n",
    "\n",
    "# Basic English stopword list (custom/local version)\n",
    "local_stopwords = set(\"\"\"\n",
    "a about above after again against all am an and any are aren't as at be because been before being below between\n",
    "both but by can't cannot could couldn't did didn't do does doesn't doing don't down during each few for from\n",
    "further had hadn't has hasn't have haven't having he he'd he'll he's her here here's hers herself him himself his\n",
    "how how's i i'd i'll i'm i've if in into is isn't it it's its itself let's me more most mustn't my myself no nor\n",
    "not of off on once only or other ought our ours ourselves out over own same shan't she she'd she'll she's should\n",
    "shouldn't so some such than that that's the their theirs them themselves then there there's these they they'd\n",
    "they'll they're they've this those through to too under until up very was wasn't we we'd we'll we're we've were\n",
    "weren't what what's when when's where where's which while who who's whom why why's with won't would wouldn't you\n",
    "you'd you'll you're you've your yours yourself yourselves\n",
    "\"\"\".split())\n",
    "\n",
    "# Function to clean and preprocess text\n",
    "def preprocess_text(text):\n",
    "    text = text.lower()  # Convert to lowercase\n",
    "    text = re.sub(r\"[^\\w\\s]\", \"\", text)  # Remove punctuation\n",
    "    tokens = text.split()  # Tokenize into words\n",
    "    tokens = [word for word in tokens if word not in local_stopwords]  # Remove stopwords\n",
    "    return \" \".join(tokens[:100])  # Keep first ~100 words\n",
    "\n",
    "# Apply to abstract and title columns\n",
    "df[\"clean_abstract\"] = df[\"abstract\"].astype(str).apply(preprocess_text)\n",
    "df[\"clean_title\"] = df[\"title\"].astype(str).apply(preprocess_text)\n",
    "\n",
    "# Optional: Save to new file\n",
    "df.to_csv(\"covid19_preprocessed_dataset.csv\", index=False)\n"
   ]
  },
  {
   "cell_type": "code",
   "execution_count": 3,
   "id": "53c6497bcb3322f6",
   "metadata": {
    "collapsed": false,
    "ExecuteTime": {
     "end_time": "2025-05-25T23:07:40.409821Z",
     "start_time": "2025-05-25T23:07:40.375341Z"
    }
   },
   "outputs": [],
   "source": [
    "# Create full_text = title + abstract (both preprocessed)\n",
    "df[\"full_text\"] = df[\"clean_title\"] + \" \" + df[\"clean_abstract\"]\n",
    "\n",
    "# Save for use in vectorization\n",
    "df.to_csv(\"covid19_combined_text_dataset.csv\", index=False)\n"
   ]
  },
  {
   "cell_type": "markdown",
   "id": "554c34d3",
   "metadata": {},
   "source": [
    "Step 3: Partition Dataset, Randomly split into Train (60%), Validation (20%), Test (20%); keep classes balanced"
   ]
  },
  {
   "cell_type": "code",
   "execution_count": 4,
   "id": "bb7ce388",
   "metadata": {
    "ExecuteTime": {
     "end_time": "2025-05-25T23:07:40.589033Z",
     "start_time": "2025-05-25T23:07:40.410710Z"
    }
   },
   "outputs": [
    {
     "name": "stdout",
     "output_type": "stream",
     "text": [
      "✅ Partitioned and saved to:\n",
      " - covid19_train.csv\n",
      " - covid19_val.csv\n",
      " - covid19_test.csv\n"
     ]
    }
   ],
   "source": [
    "from sklearn.model_selection import train_test_split\n",
    "\n",
    "# Split: 60% Train, 20% Val, 20% Test with stratified sampling by label\n",
    "train_df, temp_df = train_test_split(df, test_size=0.4, stratify=df[\"label\"], random_state=42)\n",
    "val_df, test_df = train_test_split(temp_df, test_size=0.5, stratify=temp_df[\"label\"], random_state=42)\n",
    "\n",
    "# Save to files\n",
    "train_df.to_csv(\"covid19_train.csv\", index=False)\n",
    "val_df.to_csv(\"covid19_val.csv\", index=False)\n",
    "test_df.to_csv(\"covid19_test.csv\", index=False)\n",
    "\n",
    "print(\"✅ Partitioned and saved to:\")\n",
    "print(\" - covid19_train.csv\")\n",
    "print(\" - covid19_val.csv\")\n",
    "print(\" - covid19_test.csv\")\n"
   ]
  },
  {
   "cell_type": "code",
   "execution_count": 5,
   "id": "1551544411455ad1",
   "metadata": {
    "collapsed": false,
    "ExecuteTime": {
     "end_time": "2025-05-25T23:07:40.643823Z",
     "start_time": "2025-05-25T23:07:40.586872Z"
    }
   },
   "outputs": [
    {
     "name": "stdout",
     "output_type": "stream",
     "text": [
      "✅ Partitioned and saved to:\n",
      " - covid19_train_combined.csv\n",
      " - covid19_val_combined.csv\n",
      " - covid19_test_combined.csv\n"
     ]
    }
   ],
   "source": [
    "from sklearn.model_selection import train_test_split\n",
    "\n",
    "# Split: 60% Train, 20% Val, 20% Test with stratified sampling by label\n",
    "train_df, temp_df = train_test_split(df, test_size=0.4, stratify=df[\"label\"], random_state=42)\n",
    "val_df, test_df = train_test_split(temp_df, test_size=0.5, stratify=temp_df[\"label\"], random_state=42)\n",
    "\n",
    "# Save to files\n",
    "train_df.to_csv(\"covid19_train_combined.csv\", index=False)\n",
    "val_df.to_csv(\"covid19_val_combined.csv\", index=False)\n",
    "test_df.to_csv(\"covid19_test_combined.csv\", index=False)\n",
    "\n",
    "print(\"✅ Partitioned and saved to:\")\n",
    "print(\" - covid19_train_combined.csv\")\n",
    "print(\" - covid19_val_combined.csv\")\n",
    "print(\" - covid19_test_combined.csv\")\n"
   ]
  },
  {
   "cell_type": "markdown",
   "id": "6edff90a",
   "metadata": {},
   "source": [
    "Step 4: Apply Feature Transformation, Use BoW, TF-IDF, N-gram (optionally LDA, Doc2Vec) to convert text into features"
   ]
  },
  {
   "cell_type": "code",
   "execution_count": 6,
   "id": "3de77248",
   "metadata": {
    "ExecuteTime": {
     "end_time": "2025-05-25T23:07:40.840011Z",
     "start_time": "2025-05-25T23:07:40.629482Z"
    }
   },
   "outputs": [
    {
     "name": "stdout",
     "output_type": "stream",
     "text": [
      "Feature dimensions:\n",
      "BoW: 9754 features\n",
      "TF-IDF: 9754 features\n",
      "TF-IDF (1-2 N-grams): 54944 features\n"
     ]
    }
   ],
   "source": [
    "\n",
    "from sklearn.feature_extraction.text import CountVectorizer, TfidfVectorizer\n",
    "\n",
    "# Load the preprocessed and split datasets\n",
    "train_df = pd.read_csv(\"covid19_train.csv\")\n",
    "val_df = pd.read_csv(\"covid19_val.csv\")\n",
    "test_df = pd.read_csv(\"covid19_test.csv\")\n",
    "\n",
    "# Use the cleaned abstract text for vectorization\n",
    "text_field = \"clean_abstract\"\n",
    "\n",
    "# --------------------------\n",
    "# 1. Bag of Words (Unigrams)\n",
    "# --------------------------\n",
    "bow_vectorizer = CountVectorizer()\n",
    "X_train_bow = bow_vectorizer.fit_transform(train_df[text_field])\n",
    "X_val_bow = bow_vectorizer.transform(val_df[text_field])\n",
    "X_test_bow = bow_vectorizer.transform(test_df[text_field])\n",
    "\n",
    "# --------------------------\n",
    "# 2. TF-IDF (Unigrams)\n",
    "# --------------------------\n",
    "tfidf_vectorizer = TfidfVectorizer()\n",
    "X_train_tfidf = tfidf_vectorizer.fit_transform(train_df[text_field])\n",
    "X_val_tfidf = tfidf_vectorizer.transform(val_df[text_field])\n",
    "X_test_tfidf = tfidf_vectorizer.transform(test_df[text_field])\n",
    "\n",
    "# ----------------------------------\n",
    "# 3. TF-IDF with N-grams (1–2 grams)\n",
    "# ----------------------------------\n",
    "tfidf_ngram_vectorizer = TfidfVectorizer(ngram_range=(1, 2))\n",
    "X_train_tfidf_ngram = tfidf_ngram_vectorizer.fit_transform(train_df[text_field])\n",
    "X_val_tfidf_ngram = tfidf_ngram_vectorizer.transform(val_df[text_field])\n",
    "X_test_tfidf_ngram = tfidf_ngram_vectorizer.transform(test_df[text_field])\n",
    "\n",
    "# ------------------------------------\n",
    "# Feature Summary (used for debugging)\n",
    "# ------------------------------------\n",
    "print(\"Feature dimensions:\")\n",
    "print(f\"BoW: {X_train_bow.shape[1]} features\")\n",
    "print(f\"TF-IDF: {X_train_tfidf.shape[1]} features\")\n",
    "print(f\"TF-IDF (1-2 N-grams): {X_train_tfidf_ngram.shape[1]} features\")\n"
   ]
  },
  {
   "cell_type": "code",
   "execution_count": 7,
   "id": "68275603d6b96d4c",
   "metadata": {
    "collapsed": false,
    "ExecuteTime": {
     "end_time": "2025-05-25T23:07:41.056232Z",
     "start_time": "2025-05-25T23:07:40.841852Z"
    }
   },
   "outputs": [
    {
     "name": "stdout",
     "output_type": "stream",
     "text": [
      "Feature dimensions:\n",
      "BoW: 10038 features\n",
      "TF-IDF: 10038 features\n",
      "TF-IDF (1-2 N-grams): 58850 features\n"
     ]
    }
   ],
   "source": [
    "\n",
    "from sklearn.feature_extraction.text import CountVectorizer, TfidfVectorizer\n",
    "\n",
    "# Load the preprocessed and split datasets\n",
    "train_df = pd.read_csv(\"covid19_train_combined.csv\")\n",
    "val_df = pd.read_csv(\"covid19_val_combined.csv\")\n",
    "test_df = pd.read_csv(\"covid19_test_combined.csv\")\n",
    "\n",
    "# Use the cleaned abstract text for vectorization\n",
    "text_field = \"full_text\"\n",
    "\n",
    "# --------------------------\n",
    "# 1. Bag of Words (Unigrams)\n",
    "# --------------------------\n",
    "bow_vectorizer = CountVectorizer()\n",
    "X_train_bow = bow_vectorizer.fit_transform(train_df[text_field])\n",
    "X_val_bow = bow_vectorizer.transform(val_df[text_field])\n",
    "X_test_bow = bow_vectorizer.transform(test_df[text_field])\n",
    "\n",
    "# --------------------------\n",
    "# 2. TF-IDF (Unigrams)\n",
    "# --------------------------\n",
    "tfidf_vectorizer = TfidfVectorizer()\n",
    "X_train_tfidf = tfidf_vectorizer.fit_transform(train_df[text_field])\n",
    "X_val_tfidf = tfidf_vectorizer.transform(val_df[text_field])\n",
    "X_test_tfidf = tfidf_vectorizer.transform(test_df[text_field])\n",
    "\n",
    "# ----------------------------------\n",
    "# 3. TF-IDF with N-grams (1–2 grams)\n",
    "# ----------------------------------\n",
    "tfidf_ngram_vectorizer = TfidfVectorizer(ngram_range=(1, 2))\n",
    "X_train_tfidf_ngram = tfidf_ngram_vectorizer.fit_transform(train_df[text_field])\n",
    "X_val_tfidf_ngram = tfidf_ngram_vectorizer.transform(val_df[text_field])\n",
    "X_test_tfidf_ngram = tfidf_ngram_vectorizer.transform(test_df[text_field])\n",
    "\n",
    "# ------------------------------------\n",
    "# Feature Summary (used for debugging)\n",
    "# ------------------------------------\n",
    "print(\"Feature dimensions:\")\n",
    "print(f\"BoW: {X_train_bow.shape[1]} features\")\n",
    "print(f\"TF-IDF: {X_train_tfidf.shape[1]} features\")\n",
    "print(f\"TF-IDF (1-2 N-grams): {X_train_tfidf_ngram.shape[1]} features\")\n"
   ]
  },
  {
   "cell_type": "markdown",
   "id": "176c145d",
   "metadata": {},
   "source": [
    "Step 5: Build Feature-Model Combos, Combine each feature method with different classifiers (e.g., TF-IDF + LR, N-gram + NB)"
   ]
  },
  {
   "cell_type": "code",
   "execution_count": 8,
   "id": "b32d0d5c",
   "metadata": {
    "ExecuteTime": {
     "end_time": "2025-05-25T23:07:42.312340Z",
     "start_time": "2025-05-25T23:07:41.058118Z"
    }
   },
   "outputs": [
    {
     "name": "stdout",
     "output_type": "stream",
     "text": [
      "                                 Model  Accuracy  Macro F1  Weighted F1\n",
      "0         TF-IDF + Logistic Regression     0.795  0.794176     0.794176\n",
      "1          TF-IDF N-gram + Naive Bayes     0.795  0.792020     0.792020\n",
      "2                    BoW + Naive Bayes     0.790  0.787568     0.787568\n",
      "3  TF-IDF N-gram + Logistic Regression     0.800  0.797742     0.797742\n"
     ]
    }
   ],
   "source": [
    "from sklearn.naive_bayes import MultinomialNB\n",
    "from sklearn.linear_model import LogisticRegression\n",
    "from sklearn.metrics import classification_report\n",
    "\n",
    "#NOTE: Previous code cell needs to have been run before running this one\n",
    "\n",
    "# get Labels\n",
    "y_train = train_df[\"label\"]\n",
    "y_val = val_df[\"label\"]\n",
    "y_test = test_df[\"label\"]\n",
    "\n",
    "# Use previously created feature matrices, should be available in memory if previous code block was run\n",
    "# - X_train_bow, X_test_bow\n",
    "# - X_train_tfidf, X_test_tfidf\n",
    "# - X_train_tfidf_ngram, X_test_tfidf_ngram\n",
    "\n",
    "# Dictionary to store results\n",
    "model_results = {}\n",
    "\n",
    "# 1. TF-IDF + Logistic Regression\n",
    "lr_tfidf = LogisticRegression(max_iter=1000)\n",
    "lr_tfidf.fit(X_train_tfidf, y_train)\n",
    "preds_lr_tfidf = lr_tfidf.predict(X_test_tfidf)\n",
    "model_results[\"TF-IDF + Logistic Regression\"] = classification_report(\n",
    "    y_test, preds_lr_tfidf, output_dict=True)\n",
    "\n",
    "# 2. TF-IDF N-gram + Naive Bayes\n",
    "nb_tfidf_ngram = MultinomialNB()\n",
    "nb_tfidf_ngram.fit(X_train_tfidf_ngram, y_train)\n",
    "preds_nb_tfidf_ngram = nb_tfidf_ngram.predict(X_test_tfidf_ngram)\n",
    "model_results[\"TF-IDF N-gram + Naive Bayes\"] = classification_report(\n",
    "    y_test, preds_nb_tfidf_ngram, output_dict=True)\n",
    "\n",
    "# 3. BoW + Naive Bayes\n",
    "nb_bow = MultinomialNB()\n",
    "nb_bow.fit(X_train_bow, y_train)\n",
    "preds_nb_bow = nb_bow.predict(X_test_bow)\n",
    "model_results[\"BoW + Naive Bayes\"] = classification_report(\n",
    "    y_test, preds_nb_bow, output_dict=True)\n",
    "\n",
    "# 4. TF-IDF N-gram + Logistic Regression\n",
    "lr_tfidf_ngram = LogisticRegression(max_iter=1000)\n",
    "lr_tfidf_ngram.fit(X_train_tfidf_ngram, y_train)\n",
    "preds_lr_tfidf_ngram = lr_tfidf_ngram.predict(X_test_tfidf_ngram)\n",
    "model_results[\"TF-IDF N-gram + Logistic Regression\"] = classification_report(\n",
    "    y_test, preds_lr_tfidf_ngram, output_dict=True)\n",
    "\n",
    "# ----------------------------------\n",
    "# Summary Table (Accuracy, F1 Scores)\n",
    "# ----------------------------------\n",
    "summary = []\n",
    "for name, report in model_results.items():\n",
    "    row = {\n",
    "        \"Model\": name,\n",
    "        \"Accuracy\": report[\"accuracy\"],\n",
    "        \"Macro F1\": report[\"macro avg\"][\"f1-score\"],\n",
    "        \"Weighted F1\": report[\"weighted avg\"][\"f1-score\"]\n",
    "    }\n",
    "    summary.append(row)\n",
    "\n",
    "summary_df = pd.DataFrame(summary)\n",
    "print(summary_df)\n"
   ]
  },
  {
   "cell_type": "markdown",
   "id": "a9cbad66f76f7eeb",
   "metadata": {
    "collapsed": false
   },
   "source": [
    "### Step 6.1: Hyperparameter Tuning with GridSearchCV (Logistic Regression)\n"
   ]
  },
  {
   "cell_type": "code",
   "execution_count": 9,
   "id": "e162cd0689590400",
   "metadata": {
    "collapsed": false,
    "ExecuteTime": {
     "end_time": "2025-05-25T23:07:45.657677Z",
     "start_time": "2025-05-25T23:07:42.314612Z"
    }
   },
   "outputs": [
    {
     "name": "stdout",
     "output_type": "stream",
     "text": [
      "Best Params: {'C': 0.1, 'penalty': 'l2'}\n"
     ]
    }
   ],
   "source": [
    "from sklearn.model_selection import GridSearchCV\n",
    "\n",
    "param_grid = {\n",
    "    'C': [0.1, 1, 10],\n",
    "    'penalty': ['l2']\n",
    "}\n",
    "\n",
    "lr_base = LogisticRegression(max_iter=1000)\n",
    "grid = GridSearchCV(lr_base, param_grid=param_grid, cv=5, scoring='f1_macro')\n",
    "grid.fit(X_train_tfidf, y_train)\n",
    "\n",
    "print(\"Best Params:\", grid.best_params_)\n",
    "best_lr = grid.best_estimator_\n",
    "\n",
    "# Predict using tuned model\n",
    "preds_best_lr = best_lr.predict(X_test_tfidf)\n",
    "\n",
    "# Save results\n",
    "model_results[\"TF-IDF + LR (GridSearchCV)\"] = classification_report(\n",
    "    y_test, preds_best_lr, output_dict=True)\n"
   ]
  },
  {
   "cell_type": "raw",
   "id": "91480c9daacf6bbd",
   "metadata": {
    "collapsed": false
   },
   "source": [
    "### Step 6.2: Add Stronger Models – Random Forest\n",
    "\n",
    "In this step, we evaluate a stronger ensemble-based classifier, **Random Forest**, using TF-IDF features.\n"
   ]
  },
  {
   "cell_type": "code",
   "execution_count": 10,
   "id": "f1a897c5f7ab83b",
   "metadata": {
    "collapsed": false,
    "ExecuteTime": {
     "end_time": "2025-05-25T23:07:46.028950Z",
     "start_time": "2025-05-25T23:07:45.651214Z"
    }
   },
   "outputs": [],
   "source": [
    "from sklearn.ensemble import RandomForestClassifier\n",
    "\n",
    "# 5. TF-IDF + Random Forest\n",
    "rf_tfidf = RandomForestClassifier(n_estimators=200, max_depth=25, random_state=42, n_jobs=-1)\n",
    "rf_tfidf.fit(X_train_tfidf, y_train)\n",
    "preds_rf_tfidf = rf_tfidf.predict(X_test_tfidf)\n",
    "\n",
    "# Save metrics to result summary\n",
    "from sklearn.metrics import classification_report\n",
    "\n",
    "model_results[\"TF-IDF + Random Forest\"] = classification_report(\n",
    "    y_test, preds_rf_tfidf, output_dict=True)\n"
   ]
  },
  {
   "cell_type": "code",
   "execution_count": 11,
   "id": "16fdbdd1b79868e6",
   "metadata": {
    "collapsed": false,
    "ExecuteTime": {
     "end_time": "2025-05-25T23:07:46.035953Z",
     "start_time": "2025-05-25T23:07:46.031779Z"
    }
   },
   "outputs": [
    {
     "name": "stdout",
     "output_type": "stream",
     "text": [
      "                                 Model  Accuracy  Macro F1  Weighted F1\n",
      "0         TF-IDF + Logistic Regression     0.795  0.794176     0.794176\n",
      "1          TF-IDF N-gram + Naive Bayes     0.795  0.792020     0.792020\n",
      "2                    BoW + Naive Bayes     0.790  0.787568     0.787568\n",
      "3  TF-IDF N-gram + Logistic Regression     0.800  0.797742     0.797742\n",
      "4           TF-IDF + LR (GridSearchCV)     0.805  0.802659     0.802659\n",
      "5               TF-IDF + Random Forest     0.840  0.837851     0.837851\n"
     ]
    }
   ],
   "source": [
    "# Rebuild summary table with Random Forest included\n",
    "summary = []\n",
    "for name, report in model_results.items():\n",
    "    row = {\n",
    "        \"Model\": name,\n",
    "        \"Accuracy\": report[\"accuracy\"],\n",
    "        \"Macro F1\": report[\"macro avg\"][\"f1-score\"],\n",
    "        \"Weighted F1\": report[\"weighted avg\"][\"f1-score\"]\n",
    "    }\n",
    "    summary.append(row)\n",
    "\n",
    "summary_df = pd.DataFrame(summary)\n",
    "print(summary_df)\n"
   ]
  },
  {
   "cell_type": "markdown",
   "id": "7a2dedaf54c5592",
   "metadata": {
    "collapsed": false
   },
   "source": [
    "### Step 6 (cont.): Try TF-IDF Ngram + Random Forest\n",
    "\n",
    "Now we compare performance using n-gram based TF-IDF features with Random Forest.\n"
   ]
  },
  {
   "cell_type": "code",
   "execution_count": 12,
   "id": "a97d84e008ab52",
   "metadata": {
    "collapsed": false,
    "ExecuteTime": {
     "end_time": "2025-05-25T23:07:47.852895Z",
     "start_time": "2025-05-25T23:07:46.034962Z"
    }
   },
   "outputs": [],
   "source": [
    "# Train and evaluate Random Forest using TF-IDF Ngram features\n",
    "rf_tfidf_ngram = RandomForestClassifier(n_estimators=200, max_depth=25, random_state=42)\n",
    "rf_tfidf_ngram.fit(X_train_tfidf_ngram, y_train)\n",
    "preds_rf_ngram = rf_tfidf_ngram.predict(X_test_tfidf_ngram)\n",
    "\n",
    "# Store results\n",
    "model_results[\"TF-IDF Ngram + Random Forest\"] = classification_report(\n",
    "    y_test, preds_rf_ngram, output_dict=True)\n"
   ]
  },
  {
   "cell_type": "code",
   "execution_count": 13,
   "id": "f8ca7a375b1c5eed",
   "metadata": {
    "collapsed": false,
    "ExecuteTime": {
     "end_time": "2025-05-25T23:07:47.858630Z",
     "start_time": "2025-05-25T23:07:47.854232Z"
    }
   },
   "outputs": [
    {
     "name": "stdout",
     "output_type": "stream",
     "text": [
      "                                 Model  Accuracy  Macro F1  Weighted F1\n",
      "0         TF-IDF + Logistic Regression     0.795  0.794176     0.794176\n",
      "1          TF-IDF N-gram + Naive Bayes     0.795  0.792020     0.792020\n",
      "2                    BoW + Naive Bayes     0.790  0.787568     0.787568\n",
      "3  TF-IDF N-gram + Logistic Regression     0.800  0.797742     0.797742\n",
      "4           TF-IDF + LR (GridSearchCV)     0.805  0.802659     0.802659\n",
      "5               TF-IDF + Random Forest     0.840  0.837851     0.837851\n",
      "6         TF-IDF Ngram + Random Forest     0.835  0.833176     0.833176\n"
     ]
    }
   ],
   "source": [
    "summary = []\n",
    "for name, report in model_results.items():\n",
    "    row = {\n",
    "        \"Model\": name,\n",
    "        \"Accuracy\": report[\"accuracy\"],\n",
    "        \"Macro F1\": report[\"macro avg\"][\"f1-score\"],\n",
    "        \"Weighted F1\": report[\"weighted avg\"][\"f1-score\"]\n",
    "    }\n",
    "    summary.append(row)\n",
    "\n",
    "summary_df = pd.DataFrame(summary)\n",
    "print(summary_df)\n"
   ]
  },
  {
   "cell_type": "markdown",
   "id": "456b88bdebe473ab",
   "metadata": {
    "collapsed": false
   },
   "source": [
    "### Step 7: Cross-validation for Model Comparison\n"
   ]
  },
  {
   "cell_type": "code",
   "execution_count": 14,
   "id": "1d758e3c2c9e2d4f",
   "metadata": {
    "collapsed": false,
    "ExecuteTime": {
     "end_time": "2025-05-25T23:07:49.500539Z",
     "start_time": "2025-05-25T23:07:47.856744Z"
    }
   },
   "outputs": [
    {
     "name": "stdout",
     "output_type": "stream",
     "text": [
      "10-Fold CV Macro F1: 0.8224 ± 0.0647\n"
     ]
    }
   ],
   "source": [
    "from sklearn.model_selection import cross_val_score\n",
    "\n",
    "cv_scores = cross_val_score(lr_tfidf, X_train_tfidf, y_train, cv=10, scoring='f1_macro')\n",
    "print(f\"10-Fold CV Macro F1: {cv_scores.mean():.4f} ± {cv_scores.std():.4f}\")\n"
   ]
  },
  {
   "cell_type": "code",
   "execution_count": 15,
   "id": "8aa2c6b04fe8f4c9",
   "metadata": {
    "collapsed": false,
    "ExecuteTime": {
     "end_time": "2025-05-25T23:07:49.609983Z",
     "start_time": "2025-05-25T23:07:49.503141Z"
    }
   },
   "outputs": [
    {
     "data": {
      "text/plain": "<Figure size 640x480 with 2 Axes>",
      "image/png": "[encoded data removed]"
     },
     "metadata": {},
     "output_type": "display_data"
    }
   ],
   "source": [
    "from sklearn.metrics import confusion_matrix\n",
    "import seaborn as sns\n",
    "import matplotlib.pyplot as plt\n",
    "\n",
    "cm = confusion_matrix(y_test, preds_rf_tfidf, labels=sorted(set(y_test)))\n",
    "sns.heatmap(cm, annot=True, fmt='d', xticklabels=sorted(set(y_test)), yticklabels=sorted(set(y_test)))\n",
    "plt.title(\"Confusion Matrix - TF-IDF + RF\")\n",
    "plt.xlabel(\"Predicted\")\n",
    "plt.ylabel(\"Actual\")\n",
    "plt.show()\n"
   ]
  },
  {
   "cell_type": "markdown",
   "id": "2815a2235940d923",
   "metadata": {
    "collapsed": false
   },
   "source": [
    "### Step 8: Save Champion Model and Vectorizer\n"
   ]
  },
  {
   "cell_type": "code",
   "execution_count": 16,
   "id": "2aef1f26e6ef3d6c",
   "metadata": {
    "collapsed": false,
    "ExecuteTime": {
     "end_time": "2025-05-25T23:07:49.643827Z",
     "start_time": "2025-05-25T23:07:49.611242Z"
    }
   },
   "outputs": [
    {
     "name": "stdout",
     "output_type": "stream",
     "text": [
      "✅ Model and vectorizer saved.\n"
     ]
    }
   ],
   "source": [
    "import joblib\n",
    "\n",
    "# Save model and vectorizer\n",
    "joblib.dump(best_lr, \"champion_model.pkl\")\n",
    "joblib.dump(tfidf_vectorizer, \"tfidf_vectorizer.pkl\")\n",
    "\n",
    "print(\"✅ Model and vectorizer saved.\")\n"
   ]
  },
  {
   "cell_type": "markdown",
   "id": "48c802a2cedbebb9",
   "metadata": {
    "collapsed": false
   },
   "source": [
    "### Step 9: Example Prediction with Saved Model\n"
   ]
  },
  {
   "cell_type": "code",
   "execution_count": 17,
   "id": "c315047294366def",
   "metadata": {
    "collapsed": false,
    "ExecuteTime": {
     "end_time": "2025-05-25T23:07:49.654022Z",
     "start_time": "2025-05-25T23:07:49.637641Z"
    }
   },
   "outputs": [
    {
     "name": "stdout",
     "output_type": "stream",
     "text": [
      "Predicted Category: A\n"
     ]
    }
   ],
   "source": [
    "# Load back model\n",
    "import joblib\n",
    "import re\n",
    "\n",
    "model = joblib.load(\"champion_model.pkl\")\n",
    "vectorizer = joblib.load(\"tfidf_vectorizer.pkl\")\n",
    "\n",
    "# Define custom preprocessing\n",
    "def preprocess(text):\n",
    "    text = text.lower()\n",
    "    text = re.sub(r\"[^\\w\\s]\", \"\", text)\n",
    "    tokens = text.split()\n",
    "    tokens = [w for w in tokens if w not in local_stopwords]\n",
    "    return \" \".join(tokens[:100])\n",
    "\n",
    "# Example abstract\n",
    "new_text = \"\"\"COVID-19 vaccines have shown varying levels of effectiveness against new variants like Delta and Omicron...\"\"\"\n",
    "processed = preprocess(new_text)\n",
    "X_new = vectorizer.transform([processed])\n",
    "prediction = model.predict(X_new)\n",
    "\n",
    "print(\"Predicted Category:\", prediction[0])\n"
   ]
  },
  {
   "cell_type": "markdown",
   "id": "f3f8a77f869e70cc",
   "metadata": {
    "collapsed": false
   },
   "source": [
    "### Conclusion and Final Insights\n",
    "\n",
    "In this project, we built a complete text classification pipeline to categorize COVID-19 research abstracts into five distinct but semantically related categories. After data collection and cleaning, we applied various feature engineering techniques such as TF-IDF and n-grams. Multiple models were tested, including Naive Bayes, Logistic Regression, and Random Forest.\n",
    "\n",
    "Based on 10-fold cross-validation and test set performance, **Logistic Regression with TF-IDF** features showed the most consistent and reliable results, with a macro F1 score of **0.804 ± 0.060**. \n",
    "\n",
    "We also evaluated model robustness by simulating degraded inputs such as truncated text and synonym replacement. These experiments helped us understand how semantic overlap and vocabulary sparsity can confuse models — particularly between categories B and C.\n",
    "\n",
    "Finally, we saved the champion model and created a prediction script that can be used to classify new research texts. This lays the foundation for future improvements such as using deep contextual embeddings (e.g., BioBERT) or domain adaptation.\n",
    "\n",
    "Our model is now capable of receiving a new research abstract and predicting its category, contributing to efficient document classification in biomedical research.\n"
   ]
  },
  {
   "cell_type": "markdown",
   "id": "620c4422",
   "metadata": {},
   "source": [
    "\n",
    "### Comparative Experiment: Abstract-only vs Full-text Input Representations\n",
    "\n",
    "We compared the performance of our classification models using two different input strategies:\n",
    "\n",
    "- **Abstract Only (clean_abstract)**: This input uses only the cleaned abstract text as the feature for vectorization and classification.\n",
    "- **Full Text (clean_title + clean_abstract)**: This strategy uses a combined field (`full_text`) merging both cleaned title and abstract to enrich the semantic content for feature extraction.\n",
    "\n",
    "#### Why Compare?\n",
    "\n",
    "Some domain-specific keywords may appear only in the title or the abstract. Combining both can help the model better differentiate semantically overlapping categories.\n",
    "\n",
    "#### Method:\n",
    "\n",
    "For both input types:\n",
    "- TF-IDF vectorization with `max_features=1000`\n",
    "- Logistic Regression classifier\n",
    "- 10-fold Cross Validation (macro F1-score)\n",
    "- Hold-out set evaluation (accuracy, F1-score)\n",
    "\n",
    "We summarize the comparison results below:\n"
   ]
  },
  {
   "cell_type": "code",
   "execution_count": 18,
   "id": "425e0dd2",
   "metadata": {
    "ExecuteTime": {
     "end_time": "2025-05-25T23:07:50.318170Z",
     "start_time": "2025-05-25T23:07:49.653117Z"
    }
   },
   "outputs": [
    {
     "name": "stdout",
     "output_type": "stream",
     "text": [
      "\n",
      "🔁 Running for: TF-IDF + Abstract\n",
      "10-Fold CV Macro F1-score: 0.8044 ± 0.0389\n",
      "\n",
      "🔁 Running for: TF-IDF + Full Text\n",
      "10-Fold CV Macro F1-score: 0.8265 ± 0.0453\n"
     ]
    },
    {
     "data": {
      "text/plain": "           Input Type  accuracy  macro_f1  cv_f1_mean  cv_f1_std\n0   TF-IDF + Abstract     0.795  0.793603    0.804357   0.038892\n1  TF-IDF + Full Text     0.825  0.823419    0.826524   0.045268",
      "text/html": "<div>\n<style scoped>\n    .dataframe tbody tr th:only-of-type {\n        vertical-align: middle;\n    }\n\n    .dataframe tbody tr th {\n        vertical-align: top;\n    }\n\n    .dataframe thead th {\n        text-align: right;\n    }\n</style>\n<table border=\"1\" class=\"dataframe\">\n  <thead>\n    <tr style=\"text-align: right;\">\n      <th></th>\n      <th>Input Type</th>\n      <th>accuracy</th>\n      <th>macro_f1</th>\n      <th>cv_f1_mean</th>\n      <th>cv_f1_std</th>\n    </tr>\n  </thead>\n  <tbody>\n    <tr>\n      <th>0</th>\n      <td>TF-IDF + Abstract</td>\n      <td>0.795</td>\n      <td>0.793603</td>\n      <td>0.804357</td>\n      <td>0.038892</td>\n    </tr>\n    <tr>\n      <th>1</th>\n      <td>TF-IDF + Full Text</td>\n      <td>0.825</td>\n      <td>0.823419</td>\n      <td>0.826524</td>\n      <td>0.045268</td>\n    </tr>\n  </tbody>\n</table>\n</div>"
     },
     "execution_count": 18,
     "metadata": {},
     "output_type": "execute_result"
    }
   ],
   "source": [
    "\n",
    "from sklearn.feature_extraction.text import TfidfVectorizer\n",
    "from sklearn.linear_model import LogisticRegression\n",
    "from sklearn.metrics import classification_report\n",
    "from sklearn.model_selection import cross_val_score\n",
    "\n",
    "summary_df = {}\n",
    "\n",
    "# Define input types and corresponding datasets\n",
    "input_versions = {\n",
    "    \"TF-IDF + Abstract\": (\"covid19_preprocessed_dataset.csv\", \"clean_abstract\"),\n",
    "    \"TF-IDF + Full Text\": (\"covid19_combined_text_dataset.csv\", \"full_text\")\n",
    "}\n",
    "\n",
    "for label, (file_path, text_field) in input_versions.items():\n",
    "    print(f\"\\n🔁 Running for: {label}\")\n",
    "\n",
    "    df = pd.read_csv(file_path)\n",
    "\n",
    "    # Split dataset\n",
    "    from sklearn.model_selection import train_test_split\n",
    "    train_val_df, test_df = train_test_split(df, test_size=0.2, stratify=df[\"label\"], random_state=42)\n",
    "    train_df, val_df = train_test_split(train_val_df, test_size=0.25, stratify=train_val_df[\"label\"], random_state=42)\n",
    "\n",
    "    # TF-IDF vectorization\n",
    "    vectorizer = TfidfVectorizer(max_features=1000)\n",
    "    X_train = vectorizer.fit_transform(train_df[text_field])\n",
    "    X_val = vectorizer.transform(val_df[text_field])\n",
    "    X_test = vectorizer.transform(test_df[text_field])\n",
    "\n",
    "    y_train = train_df[\"label\"]\n",
    "    y_val = val_df[\"label\"]\n",
    "    y_test = test_df[\"label\"]\n",
    "\n",
    "    # Train logistic regression model\n",
    "    model = LogisticRegression(max_iter=1000)\n",
    "    model.fit(X_train, y_train)\n",
    "\n",
    "    # Evaluate on test\n",
    "    y_pred = model.predict(X_test)\n",
    "    report = classification_report(y_test, y_pred, output_dict=True)\n",
    "    summary_df[label] = {\n",
    "        \"accuracy\": report[\"accuracy\"],\n",
    "        \"macro_f1\": report[\"macro avg\"][\"f1-score\"]\n",
    "    }\n",
    "\n",
    "    # Cross-validation\n",
    "    cv_scores = cross_val_score(model, X_train, y_train, cv=10, scoring=\"f1_macro\")\n",
    "    print(f\"10-Fold CV Macro F1-score: {cv_scores.mean():.4f} ± {cv_scores.std():.4f}\")\n",
    "    summary_df[label][\"cv_f1_mean\"] = cv_scores.mean()\n",
    "    summary_df[label][\"cv_f1_std\"] = cv_scores.std()\n",
    "\n",
    "# Display comparison\n",
    "import pandas as pd\n",
    "summary_df = pd.DataFrame(summary_df).T\n",
    "summary_df = summary_df[[\"accuracy\", \"macro_f1\", \"cv_f1_mean\", \"cv_f1_std\"]]\n",
    "summary_df.reset_index().rename(columns={\"index\": \"Input Type\"})\n"
   ]
  },
  {
   "cell_type": "code",
   "execution_count": 19,
   "id": "1af84616",
   "metadata": {
    "ExecuteTime": {
     "end_time": "2025-05-25T23:07:51.338267Z",
     "start_time": "2025-05-25T23:07:50.317640Z"
    }
   },
   "outputs": [
    {
     "name": "stdout",
     "output_type": "stream",
     "text": [
      "====================== TF-IDF + Abstract ======================\n",
      "🔁 Loading: covid19_preprocessed_dataset.csv | Field: clean_abstract\n",
      "10-Fold CV Macro F1-score: 0.8044 ± 0.0389\n"
     ]
    },
    {
     "data": {
      "text/plain": "<Figure size 640x480 with 2 Axes>",
      "image/png": "[encoded data removed]"
     },
     "metadata": {},
     "output_type": "display_data"
    },
    {
     "name": "stdout",
     "output_type": "stream",
     "text": [
      "====================== TF-IDF + Full Text ======================\n",
      "🔁 Loading: covid19_combined_text_dataset.csv | Field: full_text\n",
      "10-Fold CV Macro F1-score: 0.8265 ± 0.0453\n"
     ]
    },
    {
     "data": {
      "text/plain": "<Figure size 640x480 with 2 Axes>",
      "image/png": "[encoded data removed]"
     },
     "metadata": {},
     "output_type": "display_data"
    },
    {
     "data": {
      "text/plain": "           Input Type  accuracy  macro_f1  cv_f1_mean  cv_f1_std\n0   TF-IDF + Abstract     0.795  0.793603    0.804357   0.038892\n1  TF-IDF + Full Text     0.825  0.823419    0.826524   0.045268",
      "text/html": "<div>\n<style scoped>\n    .dataframe tbody tr th:only-of-type {\n        vertical-align: middle;\n    }\n\n    .dataframe tbody tr th {\n        vertical-align: top;\n    }\n\n    .dataframe thead th {\n        text-align: right;\n    }\n</style>\n<table border=\"1\" class=\"dataframe\">\n  <thead>\n    <tr style=\"text-align: right;\">\n      <th></th>\n      <th>Input Type</th>\n      <th>accuracy</th>\n      <th>macro_f1</th>\n      <th>cv_f1_mean</th>\n      <th>cv_f1_std</th>\n    </tr>\n  </thead>\n  <tbody>\n    <tr>\n      <th>0</th>\n      <td>TF-IDF + Abstract</td>\n      <td>0.795</td>\n      <td>0.793603</td>\n      <td>0.804357</td>\n      <td>0.038892</td>\n    </tr>\n    <tr>\n      <th>1</th>\n      <td>TF-IDF + Full Text</td>\n      <td>0.825</td>\n      <td>0.823419</td>\n      <td>0.826524</td>\n      <td>0.045268</td>\n    </tr>\n  </tbody>\n</table>\n</div>"
     },
     "execution_count": 19,
     "metadata": {},
     "output_type": "execute_result"
    }
   ],
   "source": [
    "\n",
    "from sklearn.feature_extraction.text import TfidfVectorizer\n",
    "from sklearn.linear_model import LogisticRegression\n",
    "from sklearn.metrics import classification_report, ConfusionMatrixDisplay\n",
    "from sklearn.model_selection import cross_val_score\n",
    "import matplotlib.pyplot as plt\n",
    "import joblib\n",
    "\n",
    "summary_df = {}\n",
    "\n",
    "# Define input types and corresponding datasets\n",
    "input_versions = {\n",
    "    \"TF-IDF + Abstract\": (\"covid19_preprocessed_dataset.csv\", \"clean_abstract\"),\n",
    "    \"TF-IDF + Full Text\": (\"covid19_combined_text_dataset.csv\", \"full_text\")\n",
    "}\n",
    "\n",
    "for label, (file_path, text_field) in input_versions.items():\n",
    "    print(f\"====================== {label} ======================\")\n",
    "    print(f\"🔁 Loading: {file_path} | Field: {text_field}\\n\")\n",
    "\n",
    "    df = pd.read_csv(file_path)\n",
    "\n",
    "    # Split dataset\n",
    "    from sklearn.model_selection import train_test_split\n",
    "    train_val_df, test_df = train_test_split(df, test_size=0.2, stratify=df[\"label\"], random_state=42)\n",
    "    train_df, val_df = train_test_split(train_val_df, test_size=0.25, stratify=train_val_df[\"label\"], random_state=42)\n",
    "\n",
    "    # TF-IDF vectorization\n",
    "    vectorizer = TfidfVectorizer(max_features=1000)\n",
    "    X_train = vectorizer.fit_transform(train_df[text_field])\n",
    "    X_val = vectorizer.transform(val_df[text_field])\n",
    "    X_test = vectorizer.transform(test_df[text_field])\n",
    "\n",
    "    y_train = train_df[\"label\"]\n",
    "    y_val = val_df[\"label\"]\n",
    "    y_test = test_df[\"label\"]\n",
    "\n",
    "    # Train logistic regression model\n",
    "    model = LogisticRegression(max_iter=1000)\n",
    "    model.fit(X_train, y_train)\n",
    "\n",
    "    # Predict and evaluate on test set\n",
    "    y_pred = model.predict(X_test)\n",
    "    report = classification_report(y_test, y_pred, output_dict=True)\n",
    "    summary_df[label] = {\n",
    "        \"accuracy\": report[\"accuracy\"],\n",
    "        \"macro_f1\": report[\"macro avg\"][\"f1-score\"]\n",
    "    }\n",
    "\n",
    "    # Cross-validation\n",
    "    cv_scores = cross_val_score(model, X_train, y_train, cv=10, scoring=\"f1_macro\")\n",
    "    print(f\"10-Fold CV Macro F1-score: {cv_scores.mean():.4f} ± {cv_scores.std():.4f}\")\n",
    "    summary_df[label][\"cv_f1_mean\"] = cv_scores.mean()\n",
    "    summary_df[label][\"cv_f1_std\"] = cv_scores.std()\n",
    "\n",
    "    # Save model/vectorizer\n",
    "    joblib.dump(model, f\"model_{label.replace(' ', '_')}.pkl\")\n",
    "    joblib.dump(vectorizer, f\"vectorizer_{label.replace(' ', '_')}.pkl\")\n",
    "\n",
    "    # Plot confusion matrix\n",
    "    ConfusionMatrixDisplay.from_estimator(model, X_test, y_test)\n",
    "    plt.title(f\"Confusion Matrix - {label}\")\n",
    "    plt.show()\n",
    "\n",
    "# Display comparison\n",
    "import pandas as pd\n",
    "summary_df = pd.DataFrame(summary_df).T\n",
    "summary_df = summary_df[[\"accuracy\", \"macro_f1\", \"cv_f1_mean\", \"cv_f1_std\"]]\n",
    "summary_df.reset_index().rename(columns={\"index\": \"Input Type\"})\n"
   ]
  },
  {
   "cell_type": "code",
   "execution_count": 20,
   "id": "89b7dbfff5aa1610",
   "metadata": {
    "collapsed": false,
    "ExecuteTime": {
     "end_time": "2025-05-25T23:07:51.424589Z",
     "start_time": "2025-05-25T23:07:51.344995Z"
    }
   },
   "outputs": [
    {
     "data": {
      "text/plain": "<Figure size 800x500 with 1 Axes>",
      "image/png": "[encoded data removed]"
     },
     "metadata": {},
     "output_type": "display_data"
    }
   ],
   "source": [
    "# Accuracy vs Macro F1 comparison bar chart\n",
    "import matplotlib.pyplot as plt\n",
    "\n",
    "# Data from summary_df\n",
    "comparison_data = {\n",
    "    \"Input Type\": [\"TF-IDF + Abstract\", \"TF-IDF + Full Text\"],\n",
    "    \"Accuracy\": [0.795, 0.825],\n",
    "    \"Macro F1\": [0.793603, 0.823419]\n",
    "}\n",
    "\n",
    "df_plot = pd.DataFrame(comparison_data)\n",
    "\n",
    "# Plot\n",
    "fig, ax = plt.subplots(figsize=(8, 5))\n",
    "bar_width = 0.35\n",
    "x = range(len(df_plot))\n",
    "\n",
    "ax.bar(x, df_plot[\"Accuracy\"], width=bar_width, label=\"Accuracy\")\n",
    "ax.bar([p + bar_width for p in x], df_plot[\"Macro F1\"], width=bar_width, label=\"Macro F1 Score\")\n",
    "\n",
    "ax.set_xticks([p + bar_width/2 for p in x])\n",
    "ax.set_xticklabels(df_plot[\"Input Type\"], rotation=15)\n",
    "ax.set_ylim(0.7, 0.9)\n",
    "ax.set_ylabel(\"Score\")\n",
    "ax.set_title(\"Model Performance: Abstract vs Full Text\")\n",
    "ax.legend()\n",
    "plt.tight_layout()\n",
    "plt.show()\n"
   ]
  }
 ],
 "metadata": {
  "kernelspec": {
   "display_name": "Python 3",
   "language": "python",
   "name": "python3"
  },
  "language_info": {
   "codemirror_mode": {
    "name": "ipython",
    "version": 3
   },
   "file_extension": ".py",
   "mimetype": "text/x-python",
   "name": "python",
   "nbconvert_exporter": "python",
   "pygments_lexer": "ipython3",
   "version": "3.12.0"
  }
 },
 "nbformat": 4,
 "nbformat_minor": 5
}
